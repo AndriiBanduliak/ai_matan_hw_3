{
  "nbformat": 4,
  "nbformat_minor": 0,
  "metadata": {
    "colab": {
      "provenance": []
    },
    "kernelspec": {
      "name": "python3",
      "display_name": "Python 3"
    },
    "language_info": {
      "name": "python"
    }
  },
  "cells": [
    {
      "cell_type": "markdown",
      "source": [
        "Даны значения зарплат из выборки выпускников: 100, 80, 75, 77, 89, 33, 45, 25, 65, 17, 30, 24, 57, 55, 70, 75, 65, 84, 90, 150. Посчитать (желательно без использования статистических методов наподобие std, var, mean) среднее арифметическое, среднее квадратичное отклонение, смещенную и несмещенную оценки дисперсий для данной выборки."
      ],
      "metadata": {
        "id": "tDJG3vjT9iAo"
      }
    },
    {
      "cell_type": "code",
      "source": [
        "salaries = [100, 80, 75, 77, 89, 33, 45, 25, 65, 17, 30, 24, 57, 55, 70, 75, 65, 84, 90, 150]\n",
        "\n",
        "# Calculate average (mean)\n",
        "mean = sum(salaries)/len(salaries)\n",
        "\n",
        "# Calculate variance (biased and unbiased)\n",
        "variance_biased = sum((x - mean)**2 for x in salaries) / len(salaries)\n",
        "variance_unbiased = sum((x - mean)**2 for x in salaries) / (len(salaries) - 1)\n",
        "\n",
        "# Calculate standard deviation (biased and unbiased)\n",
        "std_dev_biased = variance_biased**0.5\n",
        "std_dev_unbiased = variance_unbiased**0.5\n",
        "\n",
        "print(\"Mean: \", mean)\n",
        "print(\"Biased variance: \", variance_biased)\n",
        "print(\"Unbiased variance: \", variance_unbiased)\n",
        "print(\"Biased standard deviation: \", std_dev_biased)\n",
        "print(\"Unbiased standard deviation: \", std_dev_unbiased)"
      ],
      "metadata": {
        "colab": {
          "base_uri": "https://localhost:8080/"
        },
        "id": "3jBwRBAd9nTj",
        "outputId": "28f94c27-22d8-4d06-a717-2d9f8dce8936"
      },
      "execution_count": 2,
      "outputs": [
        {
          "output_type": "stream",
          "name": "stdout",
          "text": [
            "Mean:  65.3\n",
            "Biased variance:  950.11\n",
            "Unbiased variance:  1000.1157894736842\n",
            "Biased standard deviation:  30.823854398825596\n",
            "Unbiased standard deviation:  31.624607341019814\n"
          ]
        }
      ]
    },
    {
      "cell_type": "markdown",
      "source": [
        "В первом ящике находится 8 мячей, из которых 5 - белые. Во втором ящике - 12 мячей, из которых 5 белых. Из первого ящика вытаскивают случайным образом два мяча, из второго - 4. Какова вероятность того, что 3 мяча белые?"
      ],
      "metadata": {
        "id": "OLAXSSU19pba"
      }
    },
    {
      "cell_type": "code",
      "source": [
        "from math import comb\n",
        "\n",
        "p1 = comb(5, 2) / comb(8, 2)\n",
        "p2 = comb(5, 4) / comb(12, 4)\n",
        "p = p1 * p2\n",
        "\n",
        "print(f\"Probability: {p:.4f}\")\n"
      ],
      "metadata": {
        "colab": {
          "base_uri": "https://localhost:8080/"
        },
        "id": "YUQyMv0v9rg3",
        "outputId": "5bac7e0f-4ceb-4632-ffaa-d44fb3a437e0"
      },
      "execution_count": 4,
      "outputs": [
        {
          "output_type": "stream",
          "name": "stdout",
          "text": [
            "Probability: 0.0036\n"
          ]
        }
      ]
    },
    {
      "cell_type": "markdown",
      "source": [
        "На соревновании по биатлону один из трех спортсменов стреляет и попадает в мишень. Вероятность попадания для первого спортсмена равна 0.9, для второго — 0.8, для третьего — 0.6. Найти вероятность того, что выстрел произведен: a). первым спортсменом б). вторым спортсменом в). третьим спортсменом."
      ],
      "metadata": {
        "id": "C2Td4tTN9_ln"
      }
    },
    {
      "cell_type": "code",
      "source": [
        "p_first = 0.9\n",
        "p_second = 0.8\n",
        "p_third = 0.6\n",
        "p_total = p_first + p_second + p_third\n",
        "\n",
        "p_first_given_hit = p_first / p_total\n",
        "p_second_given_hit = p_second / p_total\n",
        "p_third_given_hit = p_third / p_total\n",
        "\n",
        "print(f\"Вероятность того, что выстрел произведен первым спортсменом: {p_first_given_hit:.4f}\")\n",
        "print(f\"Вероятность того, что выстрел произведен вторым спортсменом: {p_second_given_hit:.4f}\")\n",
        "print(f\"Вероятность того, что выстрел произведен третьим спортсменом: {p_third_given_hit:.4f}\")\n"
      ],
      "metadata": {
        "colab": {
          "base_uri": "https://localhost:8080/"
        },
        "id": "gYyKkoQG-AHS",
        "outputId": "8c9b6991-a486-4f9e-a9e7-f19e394691d7"
      },
      "execution_count": 9,
      "outputs": [
        {
          "output_type": "stream",
          "name": "stdout",
          "text": [
            "Вероятность того, что выстрел произведен первым спортсменом: 0.3913\n",
            "Вероятность того, что выстрел произведен вторым спортсменом: 0.3478\n",
            "Вероятность того, что выстрел произведен третьим спортсменом: 0.2609\n"
          ]
        }
      ]
    },
    {
      "cell_type": "markdown",
      "source": [
        "В университет на факультеты A и B поступило равное количество студентов, а на факультет C студентов поступило столько же, сколько на A и B вместе. Вероятность того, что студент факультета A сдаст первую сессию, равна 0.8. Для студента факультета B эта вероятность равна 0.7, а для студента факультета C - 0.9. Студент сдал первую сессию. Какова вероятность, что он учится: a). на факультете A б). на факультете B в). на факультете C?"
      ],
      "metadata": {
        "id": "uXAnN0aCAC9C"
      }
    },
    {
      "cell_type": "code",
      "source": [
        "p_A = 1/4 * 0.8\n",
        "p_B = 1/4 * 0.7\n",
        "p_C = 1/2 * 0.9\n",
        "\n",
        "p_passed_A = p_A / (p_A + p_B + p_C)\n",
        "p_passed_B = p_B / (p_A + p_B + p_C)\n",
        "p_passed_C = p_C / (p_A + p_B + p_C)\n",
        "\n",
        "print(f\"Probability that the student is from faculty A: {p_passed_A:.4f}\")\n",
        "print(f\"Probability that the student is from faculty B: {p_passed_B:.4f}\")\n",
        "print(f\"Probability that the student is from faculty C: {p_passed_C:.4f}\")\n"
      ],
      "metadata": {
        "colab": {
          "base_uri": "https://localhost:8080/"
        },
        "id": "ag4WMe8vBY5w",
        "outputId": "b8cd9664-ec28-4dd8-ea3d-c66faef6cc16"
      },
      "execution_count": 12,
      "outputs": [
        {
          "output_type": "stream",
          "name": "stdout",
          "text": [
            "Probability that the student is from faculty A: 0.2424\n",
            "Probability that the student is from faculty B: 0.2121\n",
            "Probability that the student is from faculty C: 0.5455\n"
          ]
        }
      ]
    },
    {
      "cell_type": "markdown",
      "source": [
        "Устройство состоит из трех деталей. Для первой детали вероятность выйти из строя в первый месяц равна 0.1, для второй - 0.2, для третьей - 0.25. Какова вероятность того, что в первый месяц выйдут из строя: а). все детали б). только две детали в). хотя бы одна деталь г). от одной до двух деталей?"
      ],
      "metadata": {
        "id": "p3nfd7FTB81u"
      }
    },
    {
      "cell_type": "code",
      "source": [
        "p1 = 0.1\n",
        "p2 = 0.2\n",
        "p3 = 0.25\n",
        "\n",
        "# все детали вышли из строя\n",
        "p_all = p1 * p2 * p3\n",
        "\n",
        "# только две детали вышли из строя\n",
        "p_two = (p1 * p2 * (1 - p3)) + (p1 * p3 * (1 - p2)) + (p2 * p3 * (1 - p1))\n",
        "\n",
        "# хотя бы одна деталь вышла из строя\n",
        "p_one_or_more = 1 - (1 - p1) * (1 - p2) * (1 - p3)\n",
        "\n",
        "# от одной до двух деталей вышли из строя\n",
        "p_one_to_two = p_two + p_all\n",
        "\n",
        "print(f\"Вероятность выхода из строя всех деталей: {p_all:.4f}\")\n",
        "print(f\"Вероятность выхода из строя только двух деталей: {p_two:.4f}\")\n",
        "print(f\"Вероятность выхода из строя хотя бы одной детали: {p_one_or_more:.4f}\")\n",
        "print(f\"Вероятность выхода из строя от одной до двух деталей: {p_one_to_two:.4f}\")\n"
      ],
      "metadata": {
        "colab": {
          "base_uri": "https://localhost:8080/"
        },
        "id": "Y0D15RAjB930",
        "outputId": "66457b6a-0bcd-4620-95fe-dd0ab987b3d3"
      },
      "execution_count": 14,
      "outputs": [
        {
          "output_type": "stream",
          "name": "stdout",
          "text": [
            "Вероятность выхода из строя всех деталей: 0.0050\n",
            "Вероятность выхода из строя только двух деталей: 0.0800\n",
            "Вероятность выхода из строя хотя бы одной детали: 0.4600\n",
            "Вероятность выхода из строя от одной до двух деталей: 0.0850\n"
          ]
        }
      ]
    }
  ]
}